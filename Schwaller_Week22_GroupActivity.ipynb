{
 "cells": [
  {
   "cell_type": "markdown",
   "metadata": {},
   "source": [
    "# Week 22 Group Activity"
   ]
  },
  {
   "cell_type": "markdown",
   "metadata": {},
   "source": [
    "### 1. Use Splinter and/or Beautiful Soup to scrape https://www.dndbeyond.com/classes, and pull out all class names. Store these in a dataframe."
   ]
  },
  {
   "cell_type": "code",
   "execution_count": 1,
   "metadata": {},
   "outputs": [
    {
     "name": "stderr",
     "output_type": "stream",
     "text": [
      "\n",
      "\n",
      "====== WebDriver manager ======\n",
      "Current google-chrome version is 92.0.4515\n",
      "Get LATEST driver version for 92.0.4515\n",
      "Driver [/Users/christinaschwaller/.wdm/drivers/chromedriver/mac64/92.0.4515.107/chromedriver] found in cache\n"
     ]
    }
   ],
   "source": [
    "from splinter import Browser\n",
    "from webdriver_manager.chrome import ChromeDriverManager\n",
    "\n",
    "executable_path = {'executable_path': ChromeDriverManager().install()}\n",
    "browser = Browser('chrome', **executable_path, headless=False)\n",
    "url = 'http://dndbeyond.com/classes'\n",
    "browser.visit(url)"
   ]
  },
  {
   "cell_type": "code",
   "execution_count": 2,
   "metadata": {},
   "outputs": [
    {
     "data": {
      "text/html": [
       "<div>\n",
       "<style scoped>\n",
       "    .dataframe tbody tr th:only-of-type {\n",
       "        vertical-align: middle;\n",
       "    }\n",
       "\n",
       "    .dataframe tbody tr th {\n",
       "        vertical-align: top;\n",
       "    }\n",
       "\n",
       "    .dataframe thead th {\n",
       "        text-align: right;\n",
       "    }\n",
       "</style>\n",
       "<table border=\"1\" class=\"dataframe\">\n",
       "  <thead>\n",
       "    <tr style=\"text-align: right;\">\n",
       "      <th></th>\n",
       "      <th>Class</th>\n",
       "    </tr>\n",
       "  </thead>\n",
       "  <tbody>\n",
       "    <tr>\n",
       "      <th>0</th>\n",
       "      <td>\\n                        Barbarian\\n         ...</td>\n",
       "    </tr>\n",
       "    <tr>\n",
       "      <th>1</th>\n",
       "      <td>\\n                        Bard\\n              ...</td>\n",
       "    </tr>\n",
       "    <tr>\n",
       "      <th>2</th>\n",
       "      <td>\\n                        Cleric\\n            ...</td>\n",
       "    </tr>\n",
       "    <tr>\n",
       "      <th>3</th>\n",
       "      <td>\\n                        Druid\\n             ...</td>\n",
       "    </tr>\n",
       "    <tr>\n",
       "      <th>4</th>\n",
       "      <td>\\n                        Fighter\\n           ...</td>\n",
       "    </tr>\n",
       "  </tbody>\n",
       "</table>\n",
       "</div>"
      ],
      "text/plain": [
       "                                               Class\n",
       "0  \\n                        Barbarian\\n         ...\n",
       "1  \\n                        Bard\\n              ...\n",
       "2  \\n                        Cleric\\n            ...\n",
       "3  \\n                        Druid\\n             ...\n",
       "4  \\n                        Fighter\\n           ..."
      ]
     },
     "execution_count": 2,
     "metadata": {},
     "output_type": "execute_result"
    }
   ],
   "source": [
    "import pandas as pd\n",
    "from bs4 import BeautifulSoup as bs\n",
    "import requests\n",
    "\n",
    "all_classes=[]\n",
    "url = 'https://www.dndbeyond.com/classes'\n",
    "browser.visit(url)\n",
    "\n",
    "for i in range(1,5):\n",
    "    soup=bs(browser.html, 'html.parser')\n",
    "    all_divs = soup.find_all('div',class_='listing-card__header-primary')\n",
    "    for div in all_divs:\n",
    "        try:\n",
    "            classes = div.find('h3',class_='listing-card__title').text\n",
    "            class_dict = {'Class':classes}\n",
    "            \n",
    "            all_classes.append(class_dict)\n",
    "            \n",
    "        except AttributeError as e:\n",
    "            print(e)\n",
    "            \n",
    "    \n",
    "df = pd.DataFrame(all_classes)\n",
    "df.head()"
   ]
  },
  {
   "cell_type": "markdown",
   "metadata": {},
   "source": [
    "### 2. Now, alter 1 to click on each class name to go to the more detailed page, and pull out the first paragraph about each class. Store these in a dataframe. Your dataframe should have two columns."
   ]
  },
  {
   "cell_type": "markdown",
   "metadata": {},
   "source": [
    "Note: Since the instructions were to click on class names, we tried to use all of the splinter methods for clicking on links, but they did not work. Based on Alexis's post in Slack, we realized that we do not need to write the code to click on links, only to loop through different url paths."
   ]
  },
  {
   "cell_type": "code",
   "execution_count": 36,
   "metadata": {},
   "outputs": [
    {
     "name": "stderr",
     "output_type": "stream",
     "text": [
      "\n",
      "\n",
      "====== WebDriver manager ======\n",
      "Current google-chrome version is 92.0.4515\n",
      "Get LATEST driver version for 92.0.4515\n",
      "Driver [/Users/christinaschwaller/.wdm/drivers/chromedriver/mac64/92.0.4515.107/chromedriver] found in cache\n"
     ]
    }
   ],
   "source": [
    "executable_path = {'executable_path': ChromeDriverManager().install()}\n",
    "browser = Browser('chrome', **executable_path, headless=False)\n",
    "url = 'http://dndbeyond.com/classes'\n",
    "browser.visit(url)"
   ]
  },
  {
   "cell_type": "code",
   "execution_count": 37,
   "metadata": {},
   "outputs": [
    {
     "data": {
      "text/html": [
       "<div>\n",
       "<style scoped>\n",
       "    .dataframe tbody tr th:only-of-type {\n",
       "        vertical-align: middle;\n",
       "    }\n",
       "\n",
       "    .dataframe tbody tr th {\n",
       "        vertical-align: top;\n",
       "    }\n",
       "\n",
       "    .dataframe thead th {\n",
       "        text-align: right;\n",
       "    }\n",
       "</style>\n",
       "<table border=\"1\" class=\"dataframe\">\n",
       "  <thead>\n",
       "    <tr style=\"text-align: right;\">\n",
       "      <th></th>\n",
       "      <th>Class</th>\n",
       "      <th>Description</th>\n",
       "    </tr>\n",
       "  </thead>\n",
       "  <tbody>\n",
       "    <tr>\n",
       "      <th>0</th>\n",
       "      <td>Barbarian</td>\n",
       "      <td>A tall human tribesman strides through a blizz...</td>\n",
       "    </tr>\n",
       "    <tr>\n",
       "      <th>1</th>\n",
       "      <td>Bard</td>\n",
       "      <td>Humming as she traces her fingers over an anci...</td>\n",
       "    </tr>\n",
       "    <tr>\n",
       "      <th>2</th>\n",
       "      <td>Cleric</td>\n",
       "      <td>Arms and eyes upraised toward the sun and a pr...</td>\n",
       "    </tr>\n",
       "    <tr>\n",
       "      <th>3</th>\n",
       "      <td>Druid</td>\n",
       "      <td>Holding high a gnarled staff wreathed with hol...</td>\n",
       "    </tr>\n",
       "    <tr>\n",
       "      <th>4</th>\n",
       "      <td>Fighter</td>\n",
       "      <td>A human in clanging plate armor holds her shie...</td>\n",
       "    </tr>\n",
       "    <tr>\n",
       "      <th>5</th>\n",
       "      <td>Monk</td>\n",
       "      <td>Her fists a blur as they deflect an incoming h...</td>\n",
       "    </tr>\n",
       "    <tr>\n",
       "      <th>6</th>\n",
       "      <td>Paladin</td>\n",
       "      <td>Clad in plate armor that gleams in the sunligh...</td>\n",
       "    </tr>\n",
       "    <tr>\n",
       "      <th>7</th>\n",
       "      <td>Ranger</td>\n",
       "      <td>Choose a type of favored enemy: aberrations, b...</td>\n",
       "    </tr>\n",
       "    <tr>\n",
       "      <th>8</th>\n",
       "      <td>Rogue</td>\n",
       "      <td>Signaling for her companions to wait, a halfli...</td>\n",
       "    </tr>\n",
       "    <tr>\n",
       "      <th>9</th>\n",
       "      <td>Sorcerer</td>\n",
       "      <td>Golden eyes flashing, a human stretches out he...</td>\n",
       "    </tr>\n",
       "    <tr>\n",
       "      <th>10</th>\n",
       "      <td>Warlock</td>\n",
       "      <td>With a pseudodragon curled on his shoulder, a ...</td>\n",
       "    </tr>\n",
       "  </tbody>\n",
       "</table>\n",
       "</div>"
      ],
      "text/plain": [
       "        Class                                        Description\n",
       "0   Barbarian  A tall human tribesman strides through a blizz...\n",
       "1        Bard  Humming as she traces her fingers over an anci...\n",
       "2      Cleric  Arms and eyes upraised toward the sun and a pr...\n",
       "3       Druid  Holding high a gnarled staff wreathed with hol...\n",
       "4     Fighter  A human in clanging plate armor holds her shie...\n",
       "5        Monk  Her fists a blur as they deflect an incoming h...\n",
       "6     Paladin  Clad in plate armor that gleams in the sunligh...\n",
       "7      Ranger  Choose a type of favored enemy: aberrations, b...\n",
       "8       Rogue  Signaling for her companions to wait, a halfli...\n",
       "9    Sorcerer  Golden eyes flashing, a human stretches out he...\n",
       "10    Warlock  With a pseudodragon curled on his shoulder, a ..."
      ]
     },
     "execution_count": 37,
     "metadata": {},
     "output_type": "execute_result"
    }
   ],
   "source": [
    "#create an empty list all_classes\n",
    "all_classes=[]\n",
    "#set the url to the url we want to scrape\n",
    "url = 'https://www.dndbeyond.com/classes'\n",
    "#open a browser for that url\n",
    "browser.visit(url)\n",
    "#create an empty dictionary\n",
    "class_dict={}\n",
    "#use beautiful soup to parse website\n",
    "soup=bs(browser.html, 'html.parser')\n",
    "#use beautiful soup to find all class names under the class 'listing-card__header-primary'\n",
    "all_divs = soup.find_all('div',class_='listing-card__header-primary')\n",
    "for div in all_divs:\n",
    "    #find the class name under the class listing card title\n",
    "    classes= div.find('h3',class_='listing-card__title').text\n",
    "    #remove extra spaces before and after class name\n",
    "    classes= classes.strip()\n",
    "    #run through each class name, opening up the url for that specific class.  \n",
    "    #Note: Artificer and Blood Hunter are a different category and should be excluded.\n",
    "    if classes != 'Artificer' and classes != 'Blood Hunter':\n",
    "        url = f'https://www.dndbeyond.com/classes/{classes}'\n",
    "        #assign a new browser specific to that url\n",
    "        browser.visit(url)\n",
    "        #use beautiful soup to parse that specific url\n",
    "        soup=bs(browser.html, 'html.parser')\n",
    "        #find the first paragraph about that specific class found under the class core styles core body\n",
    "        description = soup.find('p', class_='Core-Styles_Core-Body').text\n",
    "        #fill in a dictionary with the class name and description\n",
    "        class_dict = {'Class':classes, 'Description':description}\n",
    "        #append the dictionary to the list all_classes\n",
    "        all_classes.append(class_dict)\n",
    "#make a dataframe from the list\n",
    "df = pd.DataFrame(all_classes)\n",
    "df.head(-1)"
   ]
  },
  {
   "cell_type": "code",
   "execution_count": null,
   "metadata": {},
   "outputs": [],
   "source": []
  }
 ],
 "metadata": {
  "kernelspec": {
   "display_name": "Python 3",
   "language": "python",
   "name": "python3"
  },
  "language_info": {
   "codemirror_mode": {
    "name": "ipython",
    "version": 3
   },
   "file_extension": ".py",
   "mimetype": "text/x-python",
   "name": "python",
   "nbconvert_exporter": "python",
   "pygments_lexer": "ipython3",
   "version": "3.8.5"
  }
 },
 "nbformat": 4,
 "nbformat_minor": 4
}
